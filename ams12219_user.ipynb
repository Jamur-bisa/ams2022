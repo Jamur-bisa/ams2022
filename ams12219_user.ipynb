{
  "nbformat": 4,
  "nbformat_minor": 0,
  "metadata": {
    "colab": {
      "provenance": [],
      "collapsed_sections": []
    },
    "kernelspec": {
      "name": "python3",
      "display_name": "Python 3"
    },
    "language_info": {
      "name": "python"
    }
  },
  "cells": [
    {
      "cell_type": "code",
      "execution_count": 2,
      "metadata": {
        "id": "a0adAME6tWgP"
      },
      "outputs": [],
      "source": [
        "import pandas as pd\n",
        "import time\n",
        "import tweepy\n",
        "import numpy as np"
      ]
    },
    {
      "cell_type": "code",
      "source": [
        "def twitter_config():\n",
        "    auth = tweepy.OAuthHandler(\"\")\n",
        "    auth.set_access_token(\"\")\n",
        "\n",
        "    api = tweepy.API(auth)\n",
        "    try:\n",
        "        api.verify_credentials()\n",
        "        print(\"Authentication OK\")\n",
        "    except:\n",
        "        print(\"Error during authentication\")\n",
        "    return api"
      ],
      "metadata": {
        "id": "IZMr3xJOtimf"
      },
      "execution_count": 1,
      "outputs": []
    },
    {
      "cell_type": "code",
      "source": [
        "extractor = twitter_config()"
      ],
      "metadata": {
        "id": "pfDLp3VeukDE"
      },
      "execution_count": null,
      "outputs": []
    },
    {
      "cell_type": "code",
      "source": [
        "tweets = extractor.user_timeline(screen_name=\", count=1000)\n",
        "print(\"Tweets terambil: {}.\\n\".format(len(tweets)))\n",
        "\n",
        "\n",
        "print(\"100 tweet teratas:\\n\")\n",
        "for tweet in tweets[:100]:\n",
        "    print(tweet.text)\n",
        "    print()"
      ],
      "metadata": {
        "id": "ZkbQMIIPumI1"
      },
      "execution_count": null,
      "outputs": []
    },
    {
      "cell_type": "code",
      "source": [
        "dataset = pd.DataFrame(data=[tweet.text for tweet in tweets], columns=['Tweets'])\n",
        "\n",
        "display(dataset.head(100))"
      ],
      "metadata": {
        "id": "H8Gs6kqMu2yH"
      },
      "execution_count": null,
      "outputs": []
    },
    {
      "cell_type": "code",
      "source": [
        "print(dir(tweets[0]))"
      ],
      "metadata": {
        "id": "Wx_RuljZu9mn"
      },
      "execution_count": null,
      "outputs": []
    },
    {
      "cell_type": "code",
      "source": [
        "print(tweets[0].id)\n",
        "print(tweets[0].created_at)\n",
        "print(tweets[0].source)\n",
        "print(tweets[0].favorite_count)\n",
        "print(tweets[0].retweet_count)\n",
        "print(tweets[0].geo)\n",
        "print(tweets[0].coordinates)\n",
        "print(tweets[0].entities)"
      ],
      "metadata": {
        "id": "-PmMzw9BvBZo"
      },
      "execution_count": null,
      "outputs": []
    },
    {
      "cell_type": "code",
      "source": [
        "dataset['len'] = np.array([len(tweet.text) for tweet in tweets])\n",
        "dataset['ID']  = np.array([tweet.id for tweet in tweets])\n",
        "dataset['Created'] = np.array([tweet.created_at for tweet in tweets])\n",
        "dataset['Source'] = np.array([tweet.source for tweet in tweets])\n",
        "dataset['Likes']  = np.array([tweet.favorite_count for tweet in tweets])\n",
        "dataset['RTs']    = np.array([tweet.retweet_count for tweet in tweets])"
      ],
      "metadata": {
        "id": "l7khVNB4vEKV"
      },
      "execution_count": null,
      "outputs": []
    },
    {
      "cell_type": "code",
      "source": [
        "media = np.mean(dataset['len'])\n",
        "\n",
        "print(\"Jumlah rata-rata karakter di tweet: {}\".format(media))"
      ],
      "metadata": {
        "id": "te5Ux1XrvJMP"
      },
      "execution_count": null,
      "outputs": []
    },
    {
      "cell_type": "code",
      "source": [
        "\n",
        "fav_max = np.max(dataset['Likes'])\n",
        "rt_max  = np.max(dataset['RTs'])\n",
        "\n",
        "fav = dataset[dataset.Likes == fav_max].index[0]\n",
        "rt  = dataset[dataset.RTs == rt_max].index[0]\n",
        "\n",
        "print(\"Tweet yang paling banyak disukai adalah: \\n{}\".format(dataset['Tweets'][fav]))\n",
        "print(\"Jumlah suka: {}\".format(fav_max))\n",
        "print(\"{} Characters.\\n\".format(dataset['len'][fav]))"
      ],
      "metadata": {
        "id": "7C0PVlD7vLTE"
      },
      "execution_count": null,
      "outputs": []
    },
    {
      "cell_type": "code",
      "source": [
        "print(\"Tweet dengan retweet terbanyak adalah: \\n{}\".format(dataset['Tweets'][rt]))\n",
        "print(\"Jumlah retweet: {}\".format(rt_max))\n",
        "print(\"{} Characters.\\n\".format(dataset['len'][rt]))"
      ],
      "metadata": {
        "id": "hQur3kaTvQGf"
      },
      "execution_count": null,
      "outputs": []
    },
    {
      "cell_type": "code",
      "source": [
        "sources = []\n",
        "for source in dataset['Source']:\n",
        "    if source not in sources:\n",
        "        sources.append(source)\n",
        "\n",
        "# pembuatan:\n",
        "print(\"Sumber pembuatan konten:\")\n",
        "for source in sources:\n",
        "    print(\"* {}\".format(source))"
      ],
      "metadata": {
        "id": "u6HMSFtbvUMz"
      },
      "execution_count": null,
      "outputs": []
    },
    {
      "cell_type": "code",
      "source": [
        "dataset.to_csv('dataset_user.csv',sep=';')"
      ],
      "metadata": {
        "id": "bL_YHnRgvX9s"
      },
      "execution_count": null,
      "outputs": []
    },
    {
      "cell_type": "code",
      "source": [],
      "metadata": {
        "id": "T_7KePPtvcCf"
      },
      "execution_count": null,
      "outputs": []
    }
  ]
}