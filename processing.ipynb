{
  "nbformat": 4,
  "nbformat_minor": 0,
  "metadata": {
    "colab": {
      "provenance": [],
      "collapsed_sections": []
    },
    "kernelspec": {
      "name": "python3",
      "display_name": "Python 3"
    },
    "language_info": {
      "name": "python"
    }
  },
  "cells": [
    {
      "cell_type": "code",
      "execution_count": null,
      "metadata": {
        "id": "loGuUonYMRaI"
      },
      "outputs": [],
      "source": [
        "import re\n",
        "import string\n",
        "import time\n",
        "from copy import deepcopy"
      ]
    },
    {
      "cell_type": "code",
      "source": [
        "import pandas as pd"
      ],
      "metadata": {
        "id": "_pKDETw7MZ2b"
      },
      "execution_count": null,
      "outputs": []
    },
    {
      "cell_type": "code",
      "source": [
        "df = pd.read_csv('dataset_user.csv')"
      ],
      "metadata": {
        "id": "xn7DepfGMeVu"
      },
      "execution_count": null,
      "outputs": []
    },
    {
      "cell_type": "code",
      "source": [
        "df.head()"
      ],
      "metadata": {
        "id": "EZpPYqVlMiAG"
      },
      "execution_count": null,
      "outputs": []
    },
    {
      "cell_type": "code",
      "source": [
        "df = df.drop(['user'], axis=1)"
      ],
      "metadata": {
        "id": "FHsTySAfMk4l"
      },
      "execution_count": null,
      "outputs": []
    },
    {
      "cell_type": "code",
      "source": [
        "df.info()"
      ],
      "metadata": {
        "id": "HegnHeQCMnzg"
      },
      "execution_count": null,
      "outputs": []
    },
    {
      "cell_type": "code",
      "source": [
        "from ekphrasis.classes.preprocessor import TextPreProcessor\n",
        "from ekphrasis.classes.tokenizer import SocialTokenizer\n",
        "from ekphrasis.dicts.emoticons import emoticons\n",
        "\n",
        "text_processor = TextPreProcessor(\n",
        "    normalize=['email', 'percent', 'money', 'phone', 'user',\n",
        "        'time', 'date', 'number'],\n",
        "    annotate={\"hashtag\"},\n",
        "    fix_html=True,  \n",
        "    segmenter=\"twitter\", \n",
        "    corrector=\"twitter\", \n",
        "    \n",
        "    unpack_hashtags=True,  \n",
        "    unpack_contractions=True,  \n",
        "    spell_correct_elong=False,  \n",
        "    tokenizer=SocialTokenizer(lowercase=True).tokenize,\n",
        "    \n",
        "    dicts=[emoticons]\n",
        ")"
      ],
      "metadata": {
        "id": "9yKnXgqIMzqr"
      },
      "execution_count": null,
      "outputs": []
    },
    {
      "cell_type": "code",
      "source": [
        "ef bersih_data(text):\n",
        "    return \" \".join(text_processor.pre_process_doc(text))"
      ],
      "metadata": {
        "id": "ZUKPHkb_NGSg"
      },
      "execution_count": null,
      "outputs": []
    },
    {
      "cell_type": "code",
      "source": [
        "def non_ascii(text):\n",
        "    return text.encode('ascii', 'replace').decode('ascii')\n",
        "\n",
        "def remove_space_alzami(text):\n",
        "    return \" \".join(text.split())\n",
        "\n",
        "def remove_emoji_alzami(text):\n",
        "    return ' '.join(re.sub(\"([x#][A-Za-z0-9]+)\",\" \", text).split())\n",
        "\n",
        "def remove_tab(text):\n",
        "    return text.replace('\\\\t',\" \").replace('\\\\n',\" \").replace('\\\\u',\" \").replace('\\\\',\"\")\n",
        "\n",
        "def remove_tab2(text):\n",
        "    return re.sub('\\s+',' ',text)\n",
        "\n",
        "def remove_rt(text):\n",
        "    return text.replace('RT',\" \")\n",
        "\n",
        "def remove_mention(text):\n",
        "    return ' '.join(re.sub(\"([@#][A-Za-z0-9]+)|(\\w+:\\/\\/\\S+)\",\" \", text).split())\n",
        "\n",
        "def remove_incomplete_url(text):\n",
        "    return text.replace(\"http://\", \" \").replace(\"https://\", \" \")\n",
        "\n",
        "def remove_single_char(text):\n",
        "    return re.sub(r\"\\b[a-zA-Z]\\b\", \"\", text)\n",
        "\n",
        "def remove_excessive_dot(text):\n",
        "    return text.replace('..',\" \")\n",
        "\n",
        "def change_stripe(text):\n",
        "    return text.replace('-',\" \")\n",
        "\n",
        "def lower(text):\n",
        "    return text.lower()\n",
        "\n",
        "def remove_single_char(text):\n",
        "    return re.sub(r\"\\b[a-zA-Z]\\b\", \"\", text)\n",
        "\n",
        "def remove_excessive_dot(text):\n",
        "    return text.replace('..',\" \")\n",
        "\n",
        "def lower(text):\n",
        "    return text.lower()\n",
        "\n",
        "def remove_whitespace_LT(text):\n",
        "    return text.strip()\n",
        "\n",
        "def remove_whitespace_multiple(text):\n",
        "    return re.sub('\\s+',' ',text)\n",
        "\n",
        "def remove_punctuation(text):\n",
        "    remove = string.punctuation\n",
        "    remove = remove.replace(\"_\", \"\") \n",
        "    pattern = r\"[{}]\".format(remove) \n",
        "    return re.sub(pattern, \"\", text) "
      ],
      "metadata": {
        "id": "nB2ZP5ZCNHSJ"
      },
      "execution_count": null,
      "outputs": []
    },
    {
      "cell_type": "code",
      "source": [
        "def remove_number_eks(text):\n",
        "    return text.replace('<number>',\" \")\n",
        "\n",
        "def remove_angka(text):\n",
        "    return re.sub(r\"\\d+\", \"\", text) \n",
        "\n",
        "def remove_URL_eks(text):\n",
        "    return text.replace('URL',\" \").replace('url',\" \")\n",
        "\n",
        "def space_punctuation(text):\n",
        "    return re.sub('(?<! )(?=[.,!?()])|(?<=[.,!?()])(?! )', r' ', text)"
      ],
      "metadata": {
        "id": "i2RWsTjsNK74"
      },
      "execution_count": null,
      "outputs": []
    },
    {
      "cell_type": "code",
      "source": [
        "i = 0\n",
        "final_string = []\n",
        "s = \"\"\n",
        "for text in df['Tweet'].values:\n",
        "    filteredSentence = []\n",
        "    EachReviewText = \"\"\n",
        "    proc = remove_rt(text)\n",
        "    proc = lower(proc)\n",
        "    proc = change_stripe(proc)\n",
        "    proc = remove_emoji_alzami(proc)\n",
        "    proc = remove_tab(proc)\n",
        "    proc = remove_tab2(proc)\n",
        "    proc = non_ascii(proc)\n",
        "    proc = remove_incomplete_url(proc)\n",
        "    proc = remove_excessive_dot(proc)\n",
        "    proc = remove_whitespace_LT(proc)\n",
        "    proc = remove_whitespace_multiple(proc)\n",
        "    proc = remove_single_char(proc)\n",
        "    proc = space_punctuation(proc)\n",
        "    proc = remove_punctuation(proc)\n",
        "    proc = remove_space_alzami(proc)\n",
        "    proc = bersih_data(proc)\n",
        "    proc = remove_number_eks(proc)\n",
        "    proc = remove_angka(proc) \n",
        "    proc = remove_URL_eks(proc)\n",
        "    EachReviewText = proc\n",
        "    final_string.append(EachReviewText)"
      ],
      "metadata": {
        "id": "IU4UuNs2NNN9"
      },
      "execution_count": null,
      "outputs": []
    },
    {
      "cell_type": "code",
      "source": [
        "df[\"step01\"] = final_string"
      ],
      "metadata": {
        "id": "ss2_yXggNZDD"
      },
      "execution_count": null,
      "outputs": []
    },
    {
      "cell_type": "code",
      "source": [
        "df.head(100)"
      ],
      "metadata": {
        "id": "lditBNZFNmVT"
      },
      "execution_count": null,
      "outputs": []
    },
    {
      "cell_type": "code",
      "source": [
        "df.info()"
      ],
      "metadata": {
        "id": "EOcumTX2Nnz4"
      },
      "execution_count": null,
      "outputs": []
    },
    {
      "cell_type": "code",
      "source": [
        "df_hapus = df[~df['step01'].str.contains(\" \")]"
      ],
      "metadata": {
        "id": "iu58wGgcNqi3"
      },
      "execution_count": null,
      "outputs": []
    },
    {
      "cell_type": "code",
      "source": [
        "df_hapus.info()"
      ],
      "metadata": {
        "id": "OXtPRUKfNsaH"
      },
      "execution_count": null,
      "outputs": []
    },
    {
      "cell_type": "code",
      "source": [
        "df_hapus.head(10)"
      ],
      "metadata": {
        "id": "oKGfYazlNwNo"
      },
      "execution_count": null,
      "outputs": []
    },
    {
      "cell_type": "code",
      "source": [
        "df_new = df[~df.isin(df_hapus)].dropna()"
      ],
      "metadata": {
        "id": "DEjIj2KVN4Ow"
      },
      "execution_count": null,
      "outputs": []
    },
    {
      "cell_type": "code",
      "source": [
        "df_new.info()"
      ],
      "metadata": {
        "id": "NfyDErs1N5Cj"
      },
      "execution_count": null,
      "outputs": []
    }
  ]
}