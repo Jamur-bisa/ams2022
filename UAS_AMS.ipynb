{
 "cells": [
  {
   "cell_type": "code",
   "execution_count": null,
   "id": "a1f80e10-b323-4288-9b9b-fe7dd659afa7",
   "metadata": {},
   "outputs": [],
   "source": [
    "pip install --upgrade gensim"
   ]
  },
  {
   "cell_type": "code",
   "execution_count": 2,
   "id": "bac13ebd-c6d9-4288-b18c-4daf1fd7b141",
   "metadata": {},
   "outputs": [
    {
     "name": "stdout",
     "output_type": "stream",
     "text": [
      "Package              Version\n",
      "-------------------- -----------\n",
      "anyio                3.6.2\n",
      "argon2-cffi          21.3.0\n",
      "argon2-cffi-bindings 21.2.0\n",
      "asttokens            2.1.0\n",
      "attrs                22.1.0\n",
      "Babel                2.10.3\n",
      "backcall             0.2.0\n",
      "beautifulsoup4       4.11.1\n",
      "bleach               5.0.1\n",
      "blis                 0.7.9\n",
      "catalogue            2.0.8\n",
      "certifi              2022.9.24\n",
      "cffi                 1.15.1\n",
      "charset-normalizer   2.1.1\n",
      "click                8.1.3\n",
      "cloudpickle          2.2.0\n",
      "cmake                3.25.0\n",
      "colorama             0.4.6\n",
      "confection           0.0.3\n",
      "contourpy            1.0.6\n",
      "cycler               0.11.0\n",
      "cymem                2.0.7\n",
      "Cython               0.29.32\n",
      "debugpy              1.6.3\n",
      "decorator            5.1.1\n",
      "defusedxml           0.7.1\n",
      "ekphrasis            0.5.4\n",
      "entrypoints          0.4\n",
      "executing            1.2.0\n",
      "fastjsonschema       2.16.2\n",
      "fonttools            4.38.0\n",
      "fst-pso              1.8.1\n",
      "ftfy                 6.1.1\n",
      "FuzzyTM              2.0.5\n",
      "gensim               4.3.0\n",
      "gym                  0.26.2\n",
      "gym-notices          0.0.8\n",
      "idna                 3.4\n",
      "ipykernel            6.16.2\n",
      "ipython              8.6.0\n",
      "ipython-genutils     0.2.0\n",
      "jedi                 0.18.1\n",
      "Jinja2               3.1.2\n",
      "joblib               1.2.0\n",
      "json5                0.9.10\n",
      "jsonschema           4.16.0\n",
      "jupyter_client       7.4.4\n",
      "jupyter_core         4.11.2\n",
      "jupyter-server       1.21.0\n",
      "jupyterlab           3.5.0\n",
      "jupyterlab-pygments  0.2.2\n",
      "jupyterlab_server    2.16.1\n",
      "kiwisolver           1.4.4\n",
      "langcodes            3.3.0\n",
      "MarkupSafe           2.1.1\n",
      "matplotlib           3.6.1\n",
      "matplotlib-inline    0.1.6\n",
      "miniful              0.0.6\n",
      "mistune              2.0.4\n",
      "murmurhash           1.0.9\n",
      "nbclassic            0.4.7\n",
      "nbclient             0.7.0\n",
      "nbconvert            7.2.3\n",
      "nbformat             5.7.0\n",
      "nes-py               8.2.1\n",
      "nest-asyncio         1.5.6\n",
      "nltk                 3.7\n",
      "notebook             6.5.2\n",
      "notebook_shim        0.2.0\n",
      "numpy                1.23.4\n",
      "oauthlib             3.2.2\n",
      "packaging            21.3\n",
      "pandas               1.5.1\n",
      "pandocfilters        1.5.0\n",
      "parso                0.8.3\n",
      "pathy                0.6.2\n",
      "pickleshare          0.7.5\n",
      "Pillow               9.3.0\n",
      "pip                  22.3\n",
      "preshed              3.0.8\n",
      "prometheus-client    0.15.0\n",
      "prompt-toolkit       3.0.31\n",
      "psutil               5.9.3\n",
      "pure-eval            0.2.2\n",
      "pycparser            2.21\n",
      "pydantic             1.10.2\n",
      "pyFUME               0.2.25\n",
      "pyglet               1.5.21\n",
      "Pygments             2.13.0\n",
      "pyparsing            3.0.9\n",
      "pyrsistent           0.18.1\n",
      "python-dateutil      2.8.2\n",
      "pytz                 2022.5\n",
      "pywin32              304\n",
      "pywinpty             2.0.9\n",
      "PyYAML               6.0\n",
      "pyzmq                24.0.1\n",
      "regex                2022.10.31\n",
      "requests             2.28.1\n",
      "requests-oauthlib    1.3.1\n",
      "scipy                1.10.0\n",
      "searchtweets         1.7.6\n",
      "Send2Trash           1.8.0\n",
      "setuptools           63.2.0\n",
      "simpful              2.9.0\n",
      "six                  1.16.0\n",
      "smart-open           5.2.1\n",
      "sniffio              1.3.0\n",
      "soupsieve            2.3.2.post1\n",
      "spacy                3.4.2\n",
      "spacy-legacy         3.0.10\n",
      "spacy-loggers        1.0.3\n",
      "srsly                2.4.5\n",
      "stack-data           0.6.0\n",
      "termcolor            2.1.0\n",
      "terminado            0.17.0\n",
      "thinc                8.1.5\n",
      "tinycss2             1.2.1\n",
      "tomli                2.0.1\n",
      "tornado              6.2\n",
      "tqdm                 4.64.1\n",
      "traitlets            5.5.0\n",
      "tweepy               4.12.0\n",
      "tweet-parser         1.13.2\n",
      "typer                0.4.2\n",
      "typing_extensions    4.4.0\n",
      "ujson                5.5.0\n",
      "urllib3              1.26.12\n",
      "wasabi               0.10.1\n",
      "wcwidth              0.2.5\n",
      "webencodings         0.5.1\n",
      "websocket-client     1.4.1\n",
      "wheel                0.37.1\n",
      "Note: you may need to restart the kernel to use updated packages.\n"
     ]
    },
    {
     "name": "stderr",
     "output_type": "stream",
     "text": [
      "\n",
      "[notice] A new release of pip available: 22.3 -> 22.3.1\n",
      "[notice] To update, run: python.exe -m pip install --upgrade pip\n"
     ]
    }
   ],
   "source": [
    "pip list"
   ]
  },
  {
   "cell_type": "code",
   "execution_count": 8,
   "id": "3f134ac3-2e47-47c9-ac56-9ead10451a76",
   "metadata": {},
   "outputs": [],
   "source": [
    "url = 'http://dumps.wikimedia.org/idwiki/latest/idwiki-latest-pages-articles.xml.bz2'\n",
    "file_wiki = 'idwiki-latest-pages-articles.xml'\n",
    "file_idwiki = \"idwiki.txt\""
   ]
  },
  {
   "cell_type": "code",
   "execution_count": 9,
   "id": "3fbf43b2-69b3-433b-858f-9d36eeec7157",
   "metadata": {},
   "outputs": [],
   "source": [
    "import os\n",
    "import gensim"
   ]
  },
  {
   "cell_type": "code",
   "execution_count": 18,
   "id": "78dfaf7f-831b-44d2-8d80-fcd0a7d3da5a",
   "metadata": {},
   "outputs": [],
   "source": [
    "if not os.path.isfile(file_wiki):\n",
    "    !wget url"
   ]
  },
  {
   "cell_type": "code",
   "execution_count": 19,
   "id": "5b33b50a-3082-46e8-8dcc-38d407cfa255",
   "metadata": {},
   "outputs": [],
   "source": [
    "wiki_indo = gensim.corpora.WikiCorpus(file_wiki, dictionary={})"
   ]
  },
  {
   "cell_type": "code",
   "execution_count": null,
   "id": "48a96fe9-87a2-498a-97c5-b68bd422e2f7",
   "metadata": {},
   "outputs": [],
   "source": [
    "with open(file_idwiki, 'w') as f:\n",
    "    i = 0\n",
    "    for text in wiki_indo.get_texts():\n",
    "        text = ' '.join(text)\n",
    "        text = text.lower()\n",
    "        f.write(text + '|n')\n",
    "        i += 1\n",
    "        print(str(i), 'articles processed')\n",
    "        \n",
    "    print('total:', str(i))"
   ]
  },
  {
   "cell_type": "code",
   "execution_count": 14,
   "id": "04af5445-49ca-4a80-a679-0a7ce22b51fe",
   "metadata": {},
   "outputs": [],
   "source": [
    "model_path = \"wiki_word2vec_gensim4.model\""
   ]
  },
  {
   "cell_type": "code",
   "execution_count": null,
   "id": "8a89ba0b-0347-4a67-88ee-25e81d17cc81",
   "metadata": {},
   "outputs": [],
   "source": [
    "sentences = gensim.models.word2vec.LineSentence(file_idwiki)\n",
    "model = gensim.models.word2vec.Word2vec(sentences, vector_size=100, window=5, min_count=1, workers=4, sg=0) \n",
    "model.save(model_path)"
   ]
  },
  {
   "cell_type": "code",
   "execution_count": null,
   "id": "c9ef7be1-96e8-409b-8743-2c5acb085ade",
   "metadata": {},
   "outputs": [],
   "source": [
    "model = gensim.models.Word2vec.load(model_path)"
   ]
  },
  {
   "cell_type": "code",
   "execution_count": null,
   "id": "73f68a95-c3ae-4110-81a8-c754d41386dd",
   "metadata": {},
   "outputs": [],
   "source": [
    "Print(model.wv['indonesia'])"
   ]
  },
  {
   "cell_type": "code",
   "execution_count": null,
   "id": "bf6067e9-6fd3-4dc8-9e11-875284ba1288",
   "metadata": {},
   "outputs": [],
   "source": [
    "sims = model.wv.most_similar('komputer', topn=10)\n",
    "print(sims)"
   ]
  },
  {
   "cell_type": "code",
   "execution_count": null,
   "id": "adcadeda-92cc-4772-9795-bfcd1aa18344",
   "metadata": {},
   "outputs": [],
   "source": [
    "sims = model.wv.most_similar(positive =['raja','ratu'],negative=['lelaki'], topn=10)\n",
    "print(sims)"
   ]
  },
  {
   "cell_type": "code",
   "execution_count": null,
   "id": "4c197a59-3d81-4fd2-9f16-a308d8f62430",
   "metadata": {},
   "outputs": [],
   "source": [
    "print(model.wv.index_to_key[0], model.wv.index_to_key[1], model.wv.index_to_key[2])"
   ]
  },
  {
   "cell_type": "code",
   "execution_count": null,
   "id": "9f1a73b9-8b44-4822-81c3-169e1dcd160a",
   "metadata": {},
   "outputs": [],
   "source": [
    "vocab_size = len(model.wv)\n",
    "print(model.wv.index_to_key[vocab_size - 1], model.wv.index_to_key[vocab_size - 0])"
   ]
  },
  {
   "cell_type": "code",
   "execution_count": null,
   "id": "db6f213a-cf1c-4ada-bc84-07d86f4482a4",
   "metadata": {},
   "outputs": [],
   "source": [
    "print(model.wv.similarity('pusing', 'nugas'), model.wv.similarity('semangat', 'nugas'))"
   ]
  },
  {
   "cell_type": "code",
   "execution_count": null,
   "id": "4a306b0f-0d09-44e8-a85d-8980362fe397",
   "metadata": {},
   "outputs": [],
   "source": [
    "print(model.wv.doesnt_match(\"merah kuning kucing toska\".split()))"
   ]
  }
 ],
 "metadata": {
  "kernelspec": {
   "display_name": "Python 3 (ipykernel)",
   "language": "python",
   "name": "python3"
  },
  "language_info": {
   "codemirror_mode": {
    "name": "ipython",
    "version": 3
   },
   "file_extension": ".py",
   "mimetype": "text/x-python",
   "name": "python",
   "nbconvert_exporter": "python",
   "pygments_lexer": "ipython3",
   "version": "3.10.7"
  }
 },
 "nbformat": 4,
 "nbformat_minor": 5
}
